{
 "cells": [
  {
   "cell_type": "code",
   "execution_count": 60,
   "metadata": {},
   "outputs": [],
   "source": [
    "def quaternion_to_euler(x, y, z, w):\n",
    "\n",
    "        import math\n",
    "        t0 = +2.0 * (w * x + y * z)\n",
    "        t1 = +1.0 - 2.0 * (x * x + y * y)\n",
    "        roll = math.degrees(math.atan2(t0, t1))\n",
    "\n",
    "        t2 = +2.0 * (w * y - z * x)\n",
    "        t2 = +1.0 if t2 > +1.0 else t2\n",
    "        t2 = -1.0 if t2 < -1.0 else t2\n",
    "        pitch = math.degrees(math.asin(t2))\n",
    "\n",
    "        t3 = +2.0 * (w * z + x * y)\n",
    "        t4 = +1.0 - 2.0 * (y * y + z * z)\n",
    "        yaw = math.degrees(math.atan2(t3, t4))\n",
    "\n",
    "        return roll, pitch, yaw"
   ]
  },
  {
   "cell_type": "code",
   "execution_count": 61,
   "metadata": {},
   "outputs": [],
   "source": [
    "def readHeadMotion(filename):\n",
    "\n",
    "    import csv\n",
    "\n",
    "    with open(filename) as f:\n",
    "        reader = csv.reader(f)\n",
    "        next(reader)\n",
    "        data = []\n",
    "        t=[]\n",
    "        pitch=[]\n",
    "        yaw=[]\n",
    "        roll=[]\n",
    "        for row in reader:\n",
    "            t.append(row[1])\n",
    "            troll, tpitch, tyaw = quaternion_to_euler(float(row[2]),float(row[3]),float(row[4]),float(row[5]))\n",
    "            yaw.append(tyaw)\n",
    "            pitch.append(tpitch)\n",
    "            roll.append(troll)\n",
    "            \n",
    "    return t, pitch, yaw\n"
   ]
  },
  {
   "cell_type": "code",
   "execution_count": 84,
   "metadata": {},
   "outputs": [],
   "source": [
    "def tileMap(t, pitch, yaw, H, W):\n",
    "\n",
    "    import math\n",
    "    import numpy\n",
    "    \n",
    "    seg = []\n",
    "    occuTiles = []\n",
    "    tseg = -1\n",
    "    toccuTilesU = numpy.zeros((H,W))\n",
    "    \n",
    "    for tim in t:\n",
    "        toccuTiles = numpy.ones((H,W))\n",
    "        tpitch = H*(math.radians(pitch.pop(0))/math.pi/2+1)/2\n",
    "        tyaw = W*(math.radians(yaw.pop(0))/math.pi+1)/2\n",
    "        hmin = tpitch-0.14*H\n",
    "        hmax = tpitch+0.14*H\n",
    "        wmin = tyaw-0.14*W\n",
    "        wmax = tyaw+0.14*W\n",
    "        hminfloor = math.floor(hmin)\n",
    "        wminfloor = math.floor(wmin)\n",
    "        \n",
    "        for hh in range(H):\n",
    "            for ww in range(W):\n",
    "                if hmax-hminfloor<hh:\n",
    "                    toccuTiles[hh][ww] = 0\n",
    "                if wmax-wminfloor<ww:\n",
    "                    toccuTiles[hh][ww] = 0\n",
    "                    \n",
    "        toccuTiles = numpy.roll(toccuTiles, hminfloor, axis=0)\n",
    "        toccuTiles = numpy.roll(toccuTiles, wminfloor, axis=1)\n",
    "\n",
    "        toccuTilesU = numpy.logical_or(toccuTilesU,toccuTiles)\n",
    "        toccuTilesU = numpy.multiply(toccuTiles,numpy.ones((H,W)))\n",
    "        \n",
    "        if tseg<math.floor(float(tim)):\n",
    "            tseg = math.floor(float(tim))\n",
    "            occuTiles.append(toccuTilesU)\n",
    "            toccuTileU = numpy.zeros((H,W))\n",
    "            seg.append(tseg)\n",
    "    \n",
    "    return seg, occuTiles"
   ]
  },
  {
   "cell_type": "code",
   "execution_count": 85,
   "metadata": {},
   "outputs": [],
   "source": [
    "t, pitch, yaw = readHeadMotion(\"video_0.csv\")\n",
    "seg, occuTiles = tileMap(t, pitch, yaw, 6, 12)"
   ]
  },
  {
   "cell_type": "code",
   "execution_count": 92,
   "metadata": {},
   "outputs": [
    {
     "data": {
      "text/plain": [
       "array([[ 0.,  0.,  0.,  0.,  0.,  0.,  0.,  0.,  0.,  0.,  0.,  0.],\n",
       "       [ 1.,  1.,  0.,  0., -1., -1., -1., -1.,  0.,  0.,  1.,  1.],\n",
       "       [ 1.,  1.,  0.,  0., -1., -1., -1., -1.,  0.,  0.,  1.,  1.],\n",
       "       [ 1.,  1.,  0.,  0., -1., -1., -1., -1.,  0.,  0.,  1.,  1.],\n",
       "       [ 0.,  0.,  0.,  0.,  0.,  0.,  0.,  0.,  0.,  0.,  0.,  0.],\n",
       "       [ 0.,  0.,  0.,  0.,  0.,  0.,  0.,  0.,  0.,  0.,  0.,  0.]])"
      ]
     },
     "execution_count": 92,
     "metadata": {},
     "output_type": "execute_result"
    }
   ],
   "source": [
    "import numpy\n",
    "numpy.subtract(occuTiles[0],occuTiles[10])"
   ]
  },
  {
   "cell_type": "code",
   "execution_count": null,
   "metadata": {},
   "outputs": [],
   "source": []
  }
 ],
 "metadata": {
  "kernelspec": {
   "display_name": "Python 3",
   "language": "python",
   "name": "python3"
  },
  "language_info": {
   "codemirror_mode": {
    "name": "ipython",
    "version": 3
   },
   "file_extension": ".py",
   "mimetype": "text/x-python",
   "name": "python",
   "nbconvert_exporter": "python",
   "pygments_lexer": "ipython3",
   "version": "3.6.9"
  }
 },
 "nbformat": 4,
 "nbformat_minor": 2
}
